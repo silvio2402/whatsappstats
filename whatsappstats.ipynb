{
 "cells": [
  {
   "cell_type": "code",
   "execution_count": null,
   "metadata": {},
   "outputs": [],
   "source": [
    "import numpy as np\n",
    "import pandas as pd\n",
    "import matplotlib.pyplot as plt\n",
    "from scipy.ndimage import gaussian_filter1d\n",
    "import datetime as dt\n",
    "import re\n",
    "\n",
    "%matplotlib inline"
   ]
  },
  {
   "cell_type": "code",
   "execution_count": null,
   "metadata": {},
   "outputs": [],
   "source": [
    "dateregex = re.compile(r\"(?<=\\[)[0-9., :]*(?=\\] )\")"
   ]
  },
  {
   "cell_type": "code",
   "execution_count": null,
   "metadata": {},
   "outputs": [],
   "source": [
    "with open('_chat.txt', 'r', encoding='utf-8') as f:\n",
    "  chat = f.read()\n",
    "  chat = chat.replace('\\u200e', '')\n",
    "  chatlines = chat.split('\\n')\n",
    "  chatlines = [line.strip() for line in chatlines]"
   ]
  },
  {
   "cell_type": "code",
   "execution_count": null,
   "metadata": {},
   "outputs": [],
   "source": [
    "timestamps = []\n",
    "senders = []\n",
    "messages = []\n",
    "groupname = None\n",
    "\n",
    "for line in chatlines:\n",
    "  datestr = dateregex.search(line)\n",
    "  if datestr:\n",
    "    datestr = datestr.group()\n",
    "    date = dt.datetime.strptime(datestr, \"%d.%m.%y, %H:%M:%S\")\n",
    "    sender, message = line.split(\"] \", 1)[1].split(\": \", 1)\n",
    "    if message.startswith(\"You joined using this group's invite link\"):\n",
    "      groupname = sender\n",
    "    timestamps.append(date)\n",
    "    senders.append(sender)\n",
    "    messages.append(message)\n",
    "  else:\n",
    "    messages[-1] += \"\\n\" + line\n",
    "\n",
    "# remove messages from group name\n",
    "removed = 0\n",
    "for i in range(len(messages)):\n",
    "  newindex = i - removed\n",
    "  if senders[newindex] == groupname:\n",
    "    removed += 1\n",
    "    timestamps.pop(newindex)\n",
    "    senders.pop(newindex)\n",
    "    messages.pop(newindex)\n",
    "\n",
    "messages = pd.DataFrame({\"timestamp\": timestamps, \"sender\": senders, \"message\": messages})"
   ]
  },
  {
   "cell_type": "code",
   "execution_count": null,
   "metadata": {},
   "outputs": [],
   "source": [
    "# Aggregate data\n",
    "\n",
    "# Message count by sender\n",
    "messagecount = messages['sender'].value_counts().sort_values(ascending=False)\n",
    "\n",
    "senders = messagecount.index.tolist()\n",
    "\n",
    "# Message count by sender by day and sort the same order as above\n",
    "messagedaycount = messages.groupby([messages['timestamp'].dt.date, 'sender']).size().reset_index(name='messagecount')"
   ]
  },
  {
   "cell_type": "code",
   "execution_count": null,
   "metadata": {},
   "outputs": [],
   "source": [
    "# Allocate a color to each sender\n",
    "colors = plt.cm.rainbow(np.linspace(1, 0, len(senders)))"
   ]
  },
  {
   "cell_type": "code",
   "execution_count": null,
   "metadata": {},
   "outputs": [],
   "source": [
    "# Pie Chart: Message count by sender\n",
    "plt.figure(figsize=(6, 6))\n",
    "\n",
    "plt.title(\"Message count by sender\")\n",
    "plt.pie(messagecount.values, labels=messagecount.index, colors=colors, autopct=lambda x: '{:.0f}'.format(x*messagecount.values.sum()/100) )\n",
    "plt.axis('equal')\n",
    "\n",
    "plt.show()"
   ]
  },
  {
   "cell_type": "code",
   "execution_count": null,
   "metadata": {},
   "outputs": [],
   "source": [
    "# Line Chart: Message count by sender by day\n",
    "plt.figure(figsize=(12, 6))\n",
    "\n",
    "plt.title(\"Message count by sender by day\")\n",
    "plt.xlabel(\"Date\")\n",
    "plt.ylabel(\"Message count\")\n",
    "for sender in senders[::-1]:\n",
    "  sender_data = messagedaycount[messagedaycount['sender'] == sender]\n",
    "  color = colors[::-1][senders[::-1].index(sender)]\n",
    "  plt.plot(sender_data['timestamp'], gaussian_filter1d(sender_data['messagecount'], sigma=1), color=color, label=sender)\n",
    "\n",
    "# Legend\n",
    "handles, labels = plt.gca().get_legend_handles_labels()\n",
    "order = range(0, len(handles))[::-1]\n",
    "plt.legend([handles[idx] for idx in order],[labels[idx] for idx in order]) \n",
    "\n",
    "plt.show()"
   ]
  }
 ],
 "metadata": {
  "kernelspec": {
   "display_name": "Python 3",
   "language": "python",
   "name": "python3"
  },
  "language_info": {
   "codemirror_mode": {
    "name": "ipython",
    "version": 3
   },
   "file_extension": ".py",
   "mimetype": "text/x-python",
   "name": "python",
   "nbconvert_exporter": "python",
   "pygments_lexer": "ipython3",
   "version": "3.11.4"
  },
  "orig_nbformat": 4
 },
 "nbformat": 4,
 "nbformat_minor": 2
}
